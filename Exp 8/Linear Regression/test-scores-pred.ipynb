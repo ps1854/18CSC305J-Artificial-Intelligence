{
 "cells": [
  {
   "cell_type": "code",
   "execution_count": 2,
   "id": "b97f3b4e",
   "metadata": {
    "execution": {
     "iopub.execute_input": "2022-03-24T11:36:22.133995Z",
     "iopub.status.busy": "2022-03-24T11:36:22.130937Z",
     "iopub.status.idle": "2022-03-24T11:36:24.690220Z",
     "shell.execute_reply": "2022-03-24T11:36:24.690819Z",
     "shell.execute_reply.started": "2022-03-24T11:35:04.233133Z"
    },
    "id": "KmNQOmmFZRqw",
    "papermill": {
     "duration": 2.608383,
     "end_time": "2022-03-24T11:36:24.691145",
     "exception": false,
     "start_time": "2022-03-24T11:36:22.082762",
     "status": "completed"
    },
    "tags": []
   },
   "outputs": [],
   "source": [
    "# importing libraries\n",
    "import numpy as np\n",
    "import pandas as pd\n",
    "import matplotlib.pyplot as plt\n",
    "import seaborn as sns\n",
    "import plotly as px\n",
    "import warnings\n",
    "warnings.filterwarnings(\"ignore\")"
   ]
  },
  {
   "cell_type": "code",
   "execution_count": 3,
   "id": "172e661c",
   "metadata": {
    "execution": {
     "iopub.execute_input": "2022-03-24T11:36:24.769112Z",
     "iopub.status.busy": "2022-03-24T11:36:24.768125Z",
     "iopub.status.idle": "2022-03-24T11:36:24.798031Z",
     "shell.execute_reply": "2022-03-24T11:36:24.798612Z",
     "shell.execute_reply.started": "2022-03-24T11:35:04.246964Z"
    },
    "id": "ASsCeImjaGfM",
    "papermill": {
     "duration": 0.069905,
     "end_time": "2022-03-24T11:36:24.798798",
     "exception": false,
     "start_time": "2022-03-24T11:36:24.728893",
     "status": "completed"
    },
    "tags": []
   },
   "outputs": [],
   "source": [
    "df = pd.read_csv(\"test_scores.csv\")"
   ]
  },
  {
   "cell_type": "code",
   "execution_count": 4,
   "id": "e6aaee0e",
   "metadata": {
    "execution": {
     "iopub.execute_input": "2022-03-24T11:36:24.886650Z",
     "iopub.status.busy": "2022-03-24T11:36:24.881866Z",
     "iopub.status.idle": "2022-03-24T11:36:24.901390Z",
     "shell.execute_reply": "2022-03-24T11:36:24.901993Z",
     "shell.execute_reply.started": "2022-03-24T11:35:04.283783Z"
    },
    "id": "HBbrKTfoaMi3",
    "outputId": "8ec45606-4063-4863-b9a7-9c80f99b2a44",
    "papermill": {
     "duration": 0.066664,
     "end_time": "2022-03-24T11:36:24.902189",
     "exception": false,
     "start_time": "2022-03-24T11:36:24.835525",
     "status": "completed"
    },
    "tags": []
   },
   "outputs": [
    {
     "data": {
      "text/html": [
       "<div>\n",
       "<style scoped>\n",
       "    .dataframe tbody tr th:only-of-type {\n",
       "        vertical-align: middle;\n",
       "    }\n",
       "\n",
       "    .dataframe tbody tr th {\n",
       "        vertical-align: top;\n",
       "    }\n",
       "\n",
       "    .dataframe thead th {\n",
       "        text-align: right;\n",
       "    }\n",
       "</style>\n",
       "<table border=\"1\" class=\"dataframe\">\n",
       "  <thead>\n",
       "    <tr style=\"text-align: right;\">\n",
       "      <th></th>\n",
       "      <th>school</th>\n",
       "      <th>school_setting</th>\n",
       "      <th>school_type</th>\n",
       "      <th>classroom</th>\n",
       "      <th>teaching_method</th>\n",
       "      <th>n_student</th>\n",
       "      <th>student_id</th>\n",
       "      <th>gender</th>\n",
       "      <th>lunch</th>\n",
       "      <th>pretest</th>\n",
       "      <th>posttest</th>\n",
       "    </tr>\n",
       "  </thead>\n",
       "  <tbody>\n",
       "    <tr>\n",
       "      <th>0</th>\n",
       "      <td>ANKYI</td>\n",
       "      <td>Urban</td>\n",
       "      <td>Non-public</td>\n",
       "      <td>6OL</td>\n",
       "      <td>Standard</td>\n",
       "      <td>20.0</td>\n",
       "      <td>2FHT3</td>\n",
       "      <td>Female</td>\n",
       "      <td>Does not qualify</td>\n",
       "      <td>62.0</td>\n",
       "      <td>72.0</td>\n",
       "    </tr>\n",
       "    <tr>\n",
       "      <th>1</th>\n",
       "      <td>ANKYI</td>\n",
       "      <td>Urban</td>\n",
       "      <td>Non-public</td>\n",
       "      <td>6OL</td>\n",
       "      <td>Standard</td>\n",
       "      <td>20.0</td>\n",
       "      <td>3JIVH</td>\n",
       "      <td>Female</td>\n",
       "      <td>Does not qualify</td>\n",
       "      <td>66.0</td>\n",
       "      <td>79.0</td>\n",
       "    </tr>\n",
       "    <tr>\n",
       "      <th>2</th>\n",
       "      <td>ANKYI</td>\n",
       "      <td>Urban</td>\n",
       "      <td>Non-public</td>\n",
       "      <td>6OL</td>\n",
       "      <td>Standard</td>\n",
       "      <td>20.0</td>\n",
       "      <td>3XOWE</td>\n",
       "      <td>Male</td>\n",
       "      <td>Does not qualify</td>\n",
       "      <td>64.0</td>\n",
       "      <td>76.0</td>\n",
       "    </tr>\n",
       "    <tr>\n",
       "      <th>3</th>\n",
       "      <td>ANKYI</td>\n",
       "      <td>Urban</td>\n",
       "      <td>Non-public</td>\n",
       "      <td>6OL</td>\n",
       "      <td>Standard</td>\n",
       "      <td>20.0</td>\n",
       "      <td>556O0</td>\n",
       "      <td>Female</td>\n",
       "      <td>Does not qualify</td>\n",
       "      <td>61.0</td>\n",
       "      <td>77.0</td>\n",
       "    </tr>\n",
       "    <tr>\n",
       "      <th>4</th>\n",
       "      <td>ANKYI</td>\n",
       "      <td>Urban</td>\n",
       "      <td>Non-public</td>\n",
       "      <td>6OL</td>\n",
       "      <td>Standard</td>\n",
       "      <td>20.0</td>\n",
       "      <td>74LOE</td>\n",
       "      <td>Male</td>\n",
       "      <td>Does not qualify</td>\n",
       "      <td>64.0</td>\n",
       "      <td>76.0</td>\n",
       "    </tr>\n",
       "  </tbody>\n",
       "</table>\n",
       "</div>"
      ],
      "text/plain": [
       "  school school_setting school_type classroom teaching_method  n_student  \\\n",
       "0  ANKYI          Urban  Non-public       6OL        Standard       20.0   \n",
       "1  ANKYI          Urban  Non-public       6OL        Standard       20.0   \n",
       "2  ANKYI          Urban  Non-public       6OL        Standard       20.0   \n",
       "3  ANKYI          Urban  Non-public       6OL        Standard       20.0   \n",
       "4  ANKYI          Urban  Non-public       6OL        Standard       20.0   \n",
       "\n",
       "  student_id  gender             lunch  pretest  posttest  \n",
       "0      2FHT3  Female  Does not qualify     62.0      72.0  \n",
       "1      3JIVH  Female  Does not qualify     66.0      79.0  \n",
       "2      3XOWE    Male  Does not qualify     64.0      76.0  \n",
       "3      556O0  Female  Does not qualify     61.0      77.0  \n",
       "4      74LOE    Male  Does not qualify     64.0      76.0  "
      ]
     },
     "execution_count": 4,
     "metadata": {},
     "output_type": "execute_result"
    }
   ],
   "source": [
    "#checking the head of df\n",
    "df.head()"
   ]
  },
  {
   "cell_type": "code",
   "execution_count": 5,
   "id": "473c9c42",
   "metadata": {
    "execution": {
     "iopub.execute_input": "2022-03-24T11:36:24.990660Z",
     "iopub.status.busy": "2022-03-24T11:36:24.989931Z",
     "iopub.status.idle": "2022-03-24T11:36:25.016011Z",
     "shell.execute_reply": "2022-03-24T11:36:25.016535Z",
     "shell.execute_reply.started": "2022-03-24T11:35:04.316822Z"
    },
    "id": "CWu3P-rcaPBg",
    "outputId": "92d8dfa1-5d5f-4058-b968-28aea870f7a0",
    "papermill": {
     "duration": 0.071668,
     "end_time": "2022-03-24T11:36:25.016741",
     "exception": false,
     "start_time": "2022-03-24T11:36:24.945073",
     "status": "completed"
    },
    "tags": []
   },
   "outputs": [
    {
     "name": "stdout",
     "output_type": "stream",
     "text": [
      "<class 'pandas.core.frame.DataFrame'>\n",
      "RangeIndex: 2133 entries, 0 to 2132\n",
      "Data columns (total 11 columns):\n",
      " #   Column           Non-Null Count  Dtype  \n",
      "---  ------           --------------  -----  \n",
      " 0   school           2133 non-null   object \n",
      " 1   school_setting   2133 non-null   object \n",
      " 2   school_type      2133 non-null   object \n",
      " 3   classroom        2133 non-null   object \n",
      " 4   teaching_method  2133 non-null   object \n",
      " 5   n_student        2133 non-null   float64\n",
      " 6   student_id       2133 non-null   object \n",
      " 7   gender           2133 non-null   object \n",
      " 8   lunch            2133 non-null   object \n",
      " 9   pretest          2133 non-null   float64\n",
      " 10  posttest         2133 non-null   float64\n",
      "dtypes: float64(3), object(8)\n",
      "memory usage: 183.4+ KB\n"
     ]
    }
   ],
   "source": [
    "df.info()"
   ]
  },
  {
   "cell_type": "code",
   "execution_count": 6,
   "id": "b1900b24",
   "metadata": {
    "execution": {
     "iopub.execute_input": "2022-03-24T11:36:25.208066Z",
     "iopub.status.busy": "2022-03-24T11:36:25.207132Z",
     "iopub.status.idle": "2022-03-24T11:36:25.214375Z",
     "shell.execute_reply": "2022-03-24T11:36:25.214932Z",
     "shell.execute_reply.started": "2022-03-24T11:35:04.386162Z"
    },
    "id": "HnOAT4gkaye7",
    "outputId": "d8cd1f1f-1012-4477-d0e4-d3db4838d790",
    "papermill": {
     "duration": 0.0501,
     "end_time": "2022-03-24T11:36:25.215108",
     "exception": false,
     "start_time": "2022-03-24T11:36:25.165008",
     "status": "completed"
    },
    "tags": []
   },
   "outputs": [
    {
     "data": {
      "text/plain": [
       "GOOBU    158\n",
       "QOQTS    149\n",
       "UKPGS    128\n",
       "DNQDD    122\n",
       "GJJHK    118\n",
       "ZOWMK    117\n",
       "VVTVA    114\n",
       "KZKKE    111\n",
       "CCAAW    109\n",
       "CUQAM    107\n",
       "VKWQH    100\n",
       "IDGFP     94\n",
       "UAGPU     87\n",
       "UUUQX     84\n",
       "OJOBU     81\n",
       "CIMBB     74\n",
       "ZMNYA     69\n",
       "GOKXL     64\n",
       "LAYPA     57\n",
       "KFZMY     52\n",
       "VHDHF     51\n",
       "FBUMG     46\n",
       "ANKYI     41\n",
       "Name: school, dtype: int64"
      ]
     },
     "execution_count": 6,
     "metadata": {},
     "output_type": "execute_result"
    }
   ],
   "source": [
    "df[\"school\"].value_counts()"
   ]
  },
  {
   "cell_type": "markdown",
   "id": "1dc786fd",
   "metadata": {
    "id": "Xwqs77BziQvw",
    "papermill": {
     "duration": 0.038885,
     "end_time": "2022-03-24T11:36:25.292980",
     "exception": false,
     "start_time": "2022-03-24T11:36:25.254095",
     "status": "completed"
    },
    "tags": []
   },
   "source": [
    "# data analysis and visualisation :"
   ]
  },
  {
   "cell_type": "code",
   "execution_count": 7,
   "id": "5ca0b0bc",
   "metadata": {
    "execution": {
     "iopub.execute_input": "2022-03-24T11:36:25.374238Z",
     "iopub.status.busy": "2022-03-24T11:36:25.373487Z",
     "iopub.status.idle": "2022-03-24T11:36:25.902152Z",
     "shell.execute_reply": "2022-03-24T11:36:25.902707Z",
     "shell.execute_reply.started": "2022-03-24T11:35:04.400420Z"
    },
    "id": "lp_d5Tbca-KA",
    "outputId": "423797ed-fc6e-49b8-a5a2-9011531977d2",
    "papermill": {
     "duration": 0.570862,
     "end_time": "2022-03-24T11:36:25.902897",
     "exception": false,
     "start_time": "2022-03-24T11:36:25.332035",
     "status": "completed"
    },
    "tags": []
   },
   "outputs": [
    {
     "data": {
      "text/plain": [
       "<AxesSubplot:xlabel='school', ylabel='count'>"
      ]
     },
     "execution_count": 7,
     "metadata": {},
     "output_type": "execute_result"
    },
    {
     "data": {
      "image/png": "[encoded data removed]",
      "text/plain": [
       "<Figure size 1152x360 with 1 Axes>"
      ]
     },
     "metadata": {
      "needs_background": "light"
     },
     "output_type": "display_data"
    }
   ],
   "source": [
    "plt.figure(figsize=(16,5))\n",
    "sns.countplot(data=df,x=\"school\")"
   ]
  },
  {
   "cell_type": "code",
   "execution_count": 8,
   "id": "285bda74",
   "metadata": {
    "execution": {
     "iopub.execute_input": "2022-03-24T11:36:27.231092Z",
     "iopub.status.busy": "2022-03-24T11:36:27.230383Z",
     "iopub.status.idle": "2022-03-24T11:36:27.238218Z",
     "shell.execute_reply": "2022-03-24T11:36:27.238831Z",
     "shell.execute_reply.started": "2022-03-24T11:35:06.154890Z"
    },
    "id": "vk-_biNNcNug",
    "outputId": "405f4973-6991-4197-e6bc-df1addefca28",
    "papermill": {
     "duration": 0.055124,
     "end_time": "2022-03-24T11:36:27.239002",
     "exception": false,
     "start_time": "2022-03-24T11:36:27.183878",
     "status": "completed"
    },
    "tags": []
   },
   "outputs": [
    {
     "data": {
      "text/html": [
       "<div>\n",
       "<style scoped>\n",
       "    .dataframe tbody tr th:only-of-type {\n",
       "        vertical-align: middle;\n",
       "    }\n",
       "\n",
       "    .dataframe tbody tr th {\n",
       "        vertical-align: top;\n",
       "    }\n",
       "\n",
       "    .dataframe thead th {\n",
       "        text-align: right;\n",
       "    }\n",
       "</style>\n",
       "<table border=\"1\" class=\"dataframe\">\n",
       "  <thead>\n",
       "    <tr style=\"text-align: right;\">\n",
       "      <th></th>\n",
       "      <th>n_student</th>\n",
       "      <th>pretest</th>\n",
       "      <th>posttest</th>\n",
       "    </tr>\n",
       "  </thead>\n",
       "  <tbody>\n",
       "    <tr>\n",
       "      <th>n_student</th>\n",
       "      <td>1.000000</td>\n",
       "      <td>-0.499253</td>\n",
       "      <td>-0.504886</td>\n",
       "    </tr>\n",
       "    <tr>\n",
       "      <th>pretest</th>\n",
       "      <td>-0.499253</td>\n",
       "      <td>1.000000</td>\n",
       "      <td>0.950884</td>\n",
       "    </tr>\n",
       "    <tr>\n",
       "      <th>posttest</th>\n",
       "      <td>-0.504886</td>\n",
       "      <td>0.950884</td>\n",
       "      <td>1.000000</td>\n",
       "    </tr>\n",
       "  </tbody>\n",
       "</table>\n",
       "</div>"
      ],
      "text/plain": [
       "           n_student   pretest  posttest\n",
       "n_student   1.000000 -0.499253 -0.504886\n",
       "pretest    -0.499253  1.000000  0.950884\n",
       "posttest   -0.504886  0.950884  1.000000"
      ]
     },
     "execution_count": 8,
     "metadata": {},
     "output_type": "execute_result"
    }
   ],
   "source": [
    "df.corr()"
   ]
  },
  {
   "cell_type": "code",
   "execution_count": 9,
   "id": "3f5aa82d",
   "metadata": {
    "execution": {
     "iopub.execute_input": "2022-03-24T11:36:27.326297Z",
     "iopub.status.busy": "2022-03-24T11:36:27.325567Z",
     "iopub.status.idle": "2022-03-24T11:36:28.313278Z",
     "shell.execute_reply": "2022-03-24T11:36:28.314059Z",
     "shell.execute_reply.started": "2022-03-24T11:35:06.170907Z"
    },
    "id": "E1nTp4gwcdO-",
    "outputId": "15111d4d-c3e7-451c-b5ff-f1ceedeab31e",
    "papermill": {
     "duration": 1.033553,
     "end_time": "2022-03-24T11:36:28.314308",
     "exception": false,
     "start_time": "2022-03-24T11:36:27.280755",
     "status": "completed"
    },
    "tags": []
   },
   "outputs": [
    {
     "data": {
      "text/plain": [
       "<seaborn.axisgrid.JointGrid at 0x2397d4b35e0>"
      ]
     },
     "execution_count": 9,
     "metadata": {},
     "output_type": "execute_result"
    },
    {
     "data": {
      "image/png": "[encoded data removed]",
      "text/plain": [
       "<Figure size 432x432 with 3 Axes>"
      ]
     },
     "metadata": {
      "needs_background": "light"
     },
     "output_type": "display_data"
    }
   ],
   "source": [
    "sns.jointplot(df[\"pretest\"],df[\"posttest\"])"
   ]
  },
  {
   "cell_type": "code",
   "execution_count": 10,
   "id": "fbf9d1b0",
   "metadata": {
    "execution": {
     "iopub.execute_input": "2022-03-24T11:36:28.429492Z",
     "iopub.status.busy": "2022-03-24T11:36:28.428800Z",
     "iopub.status.idle": "2022-03-24T11:36:28.546490Z",
     "shell.execute_reply": "2022-03-24T11:36:28.545909Z",
     "shell.execute_reply.started": "2022-03-24T11:35:07.148931Z"
    },
    "id": "Ra7Y6n6kcoA_",
    "outputId": "55161857-b7d3-4b3b-a336-7607ec1a8e3a",
    "papermill": {
     "duration": 0.173651,
     "end_time": "2022-03-24T11:36:28.546644",
     "exception": false,
     "start_time": "2022-03-24T11:36:28.372993",
     "status": "completed"
    },
    "tags": []
   },
   "outputs": [
    {
     "data": {
      "text/plain": [
       "<AxesSubplot:xlabel='school', ylabel='posttest'>"
      ]
     },
     "execution_count": 10,
     "metadata": {},
     "output_type": "execute_result"
    },
    {
     "data": {
      "image/png": "[encoded data removed]",
      "text/plain": [
       "<Figure size 432x288 with 1 Axes>"
      ]
     },
     "metadata": {
      "needs_background": "light"
     },
     "output_type": "display_data"
    }
   ],
   "source": [
    "sns.boxplot(df[\"school\"],df[\"posttest\"])"
   ]
  },
  {
   "cell_type": "code",
   "execution_count": 11,
   "id": "c0bcf654",
   "metadata": {
    "execution": {
     "iopub.execute_input": "2022-03-24T11:36:28.654671Z",
     "iopub.status.busy": "2022-03-24T11:36:28.653645Z",
     "iopub.status.idle": "2022-03-24T11:36:28.725728Z",
     "shell.execute_reply": "2022-03-24T11:36:28.726214Z",
     "shell.execute_reply.started": "2022-03-24T11:35:07.266040Z"
    },
    "id": "AMKbI8c0dT_C",
    "outputId": "b7dd14c3-3569-4b11-f6cf-5fa32bd328d5",
    "papermill": {
     "duration": 0.125643,
     "end_time": "2022-03-24T11:36:28.726382",
     "exception": false,
     "start_time": "2022-03-24T11:36:28.600739",
     "status": "completed"
    },
    "tags": []
   },
   "outputs": [
    {
     "data": {
      "text/plain": [
       "<AxesSubplot:xlabel='school_setting', ylabel='posttest'>"
      ]
     },
     "execution_count": 11,
     "metadata": {},
     "output_type": "execute_result"
    },
    {
     "data": {
      "image/png": "[encoded data removed]",
      "text/plain": [
       "<Figure size 432x288 with 1 Axes>"
      ]
     },
     "metadata": {
      "needs_background": "light"
     },
     "output_type": "display_data"
    }
   ],
   "source": [
    "sns.boxplot(df[\"school_setting\"],df[\"posttest\"])"
   ]
  },
  {
   "cell_type": "code",
   "execution_count": 12,
   "id": "9e7609e3",
   "metadata": {
    "execution": {
     "iopub.execute_input": "2022-03-24T11:36:29.003529Z",
     "iopub.status.busy": "2022-03-24T11:36:29.002873Z",
     "iopub.status.idle": "2022-03-24T11:36:29.016862Z",
     "shell.execute_reply": "2022-03-24T11:36:29.017987Z",
     "shell.execute_reply.started": "2022-03-24T11:35:07.445289Z"
    },
    "id": "U811TvuyeVrp",
    "outputId": "e86b2177-acb9-49b7-b2f9-3aa0d96d1d0f",
    "papermill": {
     "duration": 0.067592,
     "end_time": "2022-03-24T11:36:29.018167",
     "exception": false,
     "start_time": "2022-03-24T11:36:28.950575",
     "status": "completed"
    },
    "tags": []
   },
   "outputs": [
    {
     "data": {
      "text/plain": [
       "22.0    264\n",
       "21.0    231\n",
       "27.0    189\n",
       "28.0    168\n",
       "20.0    160\n",
       "30.0    150\n",
       "24.0    144\n",
       "23.0    138\n",
       "17.0    136\n",
       "19.0    133\n",
       "25.0    125\n",
       "18.0     72\n",
       "16.0     64\n",
       "15.0     45\n",
       "31.0     31\n",
       "29.0     29\n",
       "14.0     28\n",
       "26.0     26\n",
       "Name: n_student, dtype: int64"
      ]
     },
     "execution_count": 12,
     "metadata": {},
     "output_type": "execute_result"
    }
   ],
   "source": [
    "# count how many student per class\n",
    "df[\"n_student\"].value_counts()"
   ]
  },
  {
   "cell_type": "markdown",
   "id": "a7850504",
   "metadata": {
    "id": "K7CMnPLZjgEh",
    "papermill": {
     "duration": 0.054313,
     "end_time": "2022-03-24T11:36:29.870136",
     "exception": false,
     "start_time": "2022-03-24T11:36:29.815823",
     "status": "completed"
    },
    "tags": []
   },
   "source": [
    "# Data Cleaning :"
   ]
  },
  {
   "cell_type": "code",
   "execution_count": 13,
   "id": "7796e40a",
   "metadata": {
    "execution": {
     "iopub.execute_input": "2022-03-24T11:36:29.989403Z",
     "iopub.status.busy": "2022-03-24T11:36:29.988374Z",
     "iopub.status.idle": "2022-03-24T11:36:29.992944Z",
     "shell.execute_reply": "2022-03-24T11:36:29.992280Z",
     "shell.execute_reply.started": "2022-03-24T11:35:07.817678Z"
    },
    "id": "zgdA6dJnixtl",
    "outputId": "4fea339b-9efe-41da-b37e-71df484217cd",
    "papermill": {
     "duration": 0.068135,
     "end_time": "2022-03-24T11:36:29.993084",
     "exception": false,
     "start_time": "2022-03-24T11:36:29.924949",
     "status": "completed"
    },
    "tags": []
   },
   "outputs": [
    {
     "data": {
      "text/plain": [
       "school             0\n",
       "school_setting     0\n",
       "school_type        0\n",
       "classroom          0\n",
       "teaching_method    0\n",
       "n_student          0\n",
       "student_id         0\n",
       "gender             0\n",
       "lunch              0\n",
       "pretest            0\n",
       "posttest           0\n",
       "dtype: int64"
      ]
     },
     "execution_count": 13,
     "metadata": {},
     "output_type": "execute_result"
    }
   ],
   "source": [
    "df.isnull().sum() # we 0 null "
   ]
  },
  {
   "cell_type": "code",
   "execution_count": 14,
   "id": "97a4590a",
   "metadata": {
    "execution": {
     "iopub.execute_input": "2022-03-24T11:36:30.105617Z",
     "iopub.status.busy": "2022-03-24T11:36:30.104900Z",
     "iopub.status.idle": "2022-03-24T11:36:30.112247Z",
     "shell.execute_reply": "2022-03-24T11:36:30.113073Z",
     "shell.execute_reply.started": "2022-03-24T11:35:07.830934Z"
    },
    "id": "3pZA8NmMju3h",
    "outputId": "a0d76864-bb16-4d77-bbf7-47b132ec3de7",
    "papermill": {
     "duration": 0.065209,
     "end_time": "2022-03-24T11:36:30.113299",
     "exception": false,
     "start_time": "2022-03-24T11:36:30.048090",
     "status": "completed"
    },
    "tags": []
   },
   "outputs": [
    {
     "data": {
      "text/plain": [
       "Index(['school', 'school_setting', 'school_type', 'classroom',\n",
       "       'teaching_method', 'student_id', 'gender', 'lunch'],\n",
       "      dtype='object')"
      ]
     },
     "execution_count": 14,
     "metadata": {},
     "output_type": "execute_result"
    }
   ],
   "source": [
    "df.select_dtypes(\"object\").columns"
   ]
  },
  {
   "cell_type": "code",
   "execution_count": 15,
   "id": "10a9b650",
   "metadata": {
    "execution": {
     "iopub.execute_input": "2022-03-24T11:36:30.225586Z",
     "iopub.status.busy": "2022-03-24T11:36:30.224941Z",
     "iopub.status.idle": "2022-03-24T11:36:30.231951Z",
     "shell.execute_reply": "2022-03-24T11:36:30.232404Z",
     "shell.execute_reply.started": "2022-03-24T11:35:07.848508Z"
    },
    "id": "3rVD40tWkKix",
    "outputId": "534875f8-591a-4892-85ce-f389cbe0952b",
    "papermill": {
     "duration": 0.06479,
     "end_time": "2022-03-24T11:36:30.232579",
     "exception": false,
     "start_time": "2022-03-24T11:36:30.167789",
     "status": "completed"
    },
    "tags": []
   },
   "outputs": [
    {
     "data": {
      "text/plain": [
       "0       2FHT3\n",
       "1       3JIVH\n",
       "2       3XOWE\n",
       "3       556O0\n",
       "4       74LOE\n",
       "        ...  \n",
       "2128    T8LSK\n",
       "2129    VNP26\n",
       "2130    YDR1Z\n",
       "2131    YUEIH\n",
       "2132    ZVCQ8\n",
       "Name: student_id, Length: 2133, dtype: object"
      ]
     },
     "execution_count": 15,
     "metadata": {},
     "output_type": "execute_result"
    }
   ],
   "source": [
    "df[\"student_id\"] "
   ]
  },
  {
   "cell_type": "code",
   "execution_count": 16,
   "id": "99ea904b",
   "metadata": {
    "execution": {
     "iopub.execute_input": "2022-03-24T11:36:30.346251Z",
     "iopub.status.busy": "2022-03-24T11:36:30.345275Z",
     "iopub.status.idle": "2022-03-24T11:36:30.350025Z",
     "shell.execute_reply": "2022-03-24T11:36:30.350629Z",
     "shell.execute_reply.started": "2022-03-24T11:35:07.862764Z"
    },
    "id": "9IGtNqW3kdGU",
    "papermill": {
     "duration": 0.063397,
     "end_time": "2022-03-24T11:36:30.350797",
     "exception": false,
     "start_time": "2022-03-24T11:36:30.287400",
     "status": "completed"
    },
    "tags": []
   },
   "outputs": [],
   "source": [
    "# i will drop the student id \n",
    "df = df.drop(\"student_id\",axis=1)"
   ]
  },
  {
   "cell_type": "code",
   "execution_count": 17,
   "id": "c4a0788c",
   "metadata": {
    "execution": {
     "iopub.execute_input": "2022-03-24T11:36:30.463659Z",
     "iopub.status.busy": "2022-03-24T11:36:30.462645Z",
     "iopub.status.idle": "2022-03-24T11:36:30.479023Z",
     "shell.execute_reply": "2022-03-24T11:36:30.479488Z",
     "shell.execute_reply.started": "2022-03-24T11:35:07.874110Z"
    },
    "id": "wQrnkcYkkj7w",
    "outputId": "e9de433b-158e-4127-9679-1b1271cb3370",
    "papermill": {
     "duration": 0.074509,
     "end_time": "2022-03-24T11:36:30.479681",
     "exception": false,
     "start_time": "2022-03-24T11:36:30.405172",
     "status": "completed"
    },
    "tags": []
   },
   "outputs": [
    {
     "data": {
      "text/html": [
       "<div>\n",
       "<style scoped>\n",
       "    .dataframe tbody tr th:only-of-type {\n",
       "        vertical-align: middle;\n",
       "    }\n",
       "\n",
       "    .dataframe tbody tr th {\n",
       "        vertical-align: top;\n",
       "    }\n",
       "\n",
       "    .dataframe thead th {\n",
       "        text-align: right;\n",
       "    }\n",
       "</style>\n",
       "<table border=\"1\" class=\"dataframe\">\n",
       "  <thead>\n",
       "    <tr style=\"text-align: right;\">\n",
       "      <th></th>\n",
       "      <th>school</th>\n",
       "      <th>school_setting</th>\n",
       "      <th>school_type</th>\n",
       "      <th>classroom</th>\n",
       "      <th>teaching_method</th>\n",
       "      <th>n_student</th>\n",
       "      <th>gender</th>\n",
       "      <th>lunch</th>\n",
       "      <th>pretest</th>\n",
       "      <th>posttest</th>\n",
       "    </tr>\n",
       "  </thead>\n",
       "  <tbody>\n",
       "    <tr>\n",
       "      <th>0</th>\n",
       "      <td>ANKYI</td>\n",
       "      <td>Urban</td>\n",
       "      <td>Non-public</td>\n",
       "      <td>6OL</td>\n",
       "      <td>Standard</td>\n",
       "      <td>20.0</td>\n",
       "      <td>Female</td>\n",
       "      <td>Does not qualify</td>\n",
       "      <td>62.0</td>\n",
       "      <td>72.0</td>\n",
       "    </tr>\n",
       "    <tr>\n",
       "      <th>1</th>\n",
       "      <td>ANKYI</td>\n",
       "      <td>Urban</td>\n",
       "      <td>Non-public</td>\n",
       "      <td>6OL</td>\n",
       "      <td>Standard</td>\n",
       "      <td>20.0</td>\n",
       "      <td>Female</td>\n",
       "      <td>Does not qualify</td>\n",
       "      <td>66.0</td>\n",
       "      <td>79.0</td>\n",
       "    </tr>\n",
       "    <tr>\n",
       "      <th>2</th>\n",
       "      <td>ANKYI</td>\n",
       "      <td>Urban</td>\n",
       "      <td>Non-public</td>\n",
       "      <td>6OL</td>\n",
       "      <td>Standard</td>\n",
       "      <td>20.0</td>\n",
       "      <td>Male</td>\n",
       "      <td>Does not qualify</td>\n",
       "      <td>64.0</td>\n",
       "      <td>76.0</td>\n",
       "    </tr>\n",
       "    <tr>\n",
       "      <th>3</th>\n",
       "      <td>ANKYI</td>\n",
       "      <td>Urban</td>\n",
       "      <td>Non-public</td>\n",
       "      <td>6OL</td>\n",
       "      <td>Standard</td>\n",
       "      <td>20.0</td>\n",
       "      <td>Female</td>\n",
       "      <td>Does not qualify</td>\n",
       "      <td>61.0</td>\n",
       "      <td>77.0</td>\n",
       "    </tr>\n",
       "    <tr>\n",
       "      <th>4</th>\n",
       "      <td>ANKYI</td>\n",
       "      <td>Urban</td>\n",
       "      <td>Non-public</td>\n",
       "      <td>6OL</td>\n",
       "      <td>Standard</td>\n",
       "      <td>20.0</td>\n",
       "      <td>Male</td>\n",
       "      <td>Does not qualify</td>\n",
       "      <td>64.0</td>\n",
       "      <td>76.0</td>\n",
       "    </tr>\n",
       "  </tbody>\n",
       "</table>\n",
       "</div>"
      ],
      "text/plain": [
       "  school school_setting school_type classroom teaching_method  n_student  \\\n",
       "0  ANKYI          Urban  Non-public       6OL        Standard       20.0   \n",
       "1  ANKYI          Urban  Non-public       6OL        Standard       20.0   \n",
       "2  ANKYI          Urban  Non-public       6OL        Standard       20.0   \n",
       "3  ANKYI          Urban  Non-public       6OL        Standard       20.0   \n",
       "4  ANKYI          Urban  Non-public       6OL        Standard       20.0   \n",
       "\n",
       "   gender             lunch  pretest  posttest  \n",
       "0  Female  Does not qualify     62.0      72.0  \n",
       "1  Female  Does not qualify     66.0      79.0  \n",
       "2    Male  Does not qualify     64.0      76.0  \n",
       "3  Female  Does not qualify     61.0      77.0  \n",
       "4    Male  Does not qualify     64.0      76.0  "
      ]
     },
     "execution_count": 17,
     "metadata": {},
     "output_type": "execute_result"
    }
   ],
   "source": [
    "df.head()"
   ]
  },
  {
   "cell_type": "code",
   "execution_count": 18,
   "id": "2d343cb4",
   "metadata": {
    "execution": {
     "iopub.execute_input": "2022-03-24T11:36:30.595240Z",
     "iopub.status.busy": "2022-03-24T11:36:30.594247Z",
     "iopub.status.idle": "2022-03-24T11:36:30.702556Z",
     "shell.execute_reply": "2022-03-24T11:36:30.701942Z",
     "shell.execute_reply.started": "2022-03-24T11:35:07.901220Z"
    },
    "id": "voFxx7iNkkrC",
    "papermill": {
     "duration": 0.167819,
     "end_time": "2022-03-24T11:36:30.702728",
     "exception": false,
     "start_time": "2022-03-24T11:36:30.534909",
     "status": "completed"
    },
    "tags": []
   },
   "outputs": [],
   "source": [
    "cols = df.select_dtypes(\"object\").columns\n",
    "from sklearn.preprocessing import LabelEncoder\n",
    "df2 = df.copy()\n",
    "le = LabelEncoder()\n",
    "for i in cols :\n",
    "  df2[i] = df2[[i]].apply(le.fit_transform)"
   ]
  },
  {
   "cell_type": "code",
   "execution_count": 19,
   "id": "fc6df427",
   "metadata": {
    "execution": {
     "iopub.execute_input": "2022-03-24T11:36:30.825418Z",
     "iopub.status.busy": "2022-03-24T11:36:30.824750Z",
     "iopub.status.idle": "2022-03-24T11:36:30.833958Z",
     "shell.execute_reply": "2022-03-24T11:36:30.833282Z",
     "shell.execute_reply.started": "2022-03-24T11:35:08.018524Z"
    },
    "id": "kayZBYd9lVAr",
    "outputId": "7b8cb377-2a58-4fae-9113-3f20a6a9da5e",
    "papermill": {
     "duration": 0.074937,
     "end_time": "2022-03-24T11:36:30.834109",
     "exception": false,
     "start_time": "2022-03-24T11:36:30.759172",
     "status": "completed"
    },
    "tags": []
   },
   "outputs": [
    {
     "data": {
      "text/html": [
       "<div>\n",
       "<style scoped>\n",
       "    .dataframe tbody tr th:only-of-type {\n",
       "        vertical-align: middle;\n",
       "    }\n",
       "\n",
       "    .dataframe tbody tr th {\n",
       "        vertical-align: top;\n",
       "    }\n",
       "\n",
       "    .dataframe thead th {\n",
       "        text-align: right;\n",
       "    }\n",
       "</style>\n",
       "<table border=\"1\" class=\"dataframe\">\n",
       "  <thead>\n",
       "    <tr style=\"text-align: right;\">\n",
       "      <th></th>\n",
       "      <th>school</th>\n",
       "      <th>school_setting</th>\n",
       "      <th>school_type</th>\n",
       "      <th>classroom</th>\n",
       "      <th>teaching_method</th>\n",
       "      <th>n_student</th>\n",
       "      <th>gender</th>\n",
       "      <th>lunch</th>\n",
       "      <th>pretest</th>\n",
       "      <th>posttest</th>\n",
       "    </tr>\n",
       "  </thead>\n",
       "  <tbody>\n",
       "    <tr>\n",
       "      <th>0</th>\n",
       "      <td>0</td>\n",
       "      <td>2</td>\n",
       "      <td>0</td>\n",
       "      <td>22</td>\n",
       "      <td>1</td>\n",
       "      <td>20.0</td>\n",
       "      <td>0</td>\n",
       "      <td>0</td>\n",
       "      <td>62.0</td>\n",
       "      <td>72.0</td>\n",
       "    </tr>\n",
       "    <tr>\n",
       "      <th>1</th>\n",
       "      <td>0</td>\n",
       "      <td>2</td>\n",
       "      <td>0</td>\n",
       "      <td>22</td>\n",
       "      <td>1</td>\n",
       "      <td>20.0</td>\n",
       "      <td>0</td>\n",
       "      <td>0</td>\n",
       "      <td>66.0</td>\n",
       "      <td>79.0</td>\n",
       "    </tr>\n",
       "    <tr>\n",
       "      <th>2</th>\n",
       "      <td>0</td>\n",
       "      <td>2</td>\n",
       "      <td>0</td>\n",
       "      <td>22</td>\n",
       "      <td>1</td>\n",
       "      <td>20.0</td>\n",
       "      <td>1</td>\n",
       "      <td>0</td>\n",
       "      <td>64.0</td>\n",
       "      <td>76.0</td>\n",
       "    </tr>\n",
       "    <tr>\n",
       "      <th>3</th>\n",
       "      <td>0</td>\n",
       "      <td>2</td>\n",
       "      <td>0</td>\n",
       "      <td>22</td>\n",
       "      <td>1</td>\n",
       "      <td>20.0</td>\n",
       "      <td>0</td>\n",
       "      <td>0</td>\n",
       "      <td>61.0</td>\n",
       "      <td>77.0</td>\n",
       "    </tr>\n",
       "    <tr>\n",
       "      <th>4</th>\n",
       "      <td>0</td>\n",
       "      <td>2</td>\n",
       "      <td>0</td>\n",
       "      <td>22</td>\n",
       "      <td>1</td>\n",
       "      <td>20.0</td>\n",
       "      <td>1</td>\n",
       "      <td>0</td>\n",
       "      <td>64.0</td>\n",
       "      <td>76.0</td>\n",
       "    </tr>\n",
       "  </tbody>\n",
       "</table>\n",
       "</div>"
      ],
      "text/plain": [
       "   school  school_setting  school_type  classroom  teaching_method  n_student  \\\n",
       "0       0               2            0         22                1       20.0   \n",
       "1       0               2            0         22                1       20.0   \n",
       "2       0               2            0         22                1       20.0   \n",
       "3       0               2            0         22                1       20.0   \n",
       "4       0               2            0         22                1       20.0   \n",
       "\n",
       "   gender  lunch  pretest  posttest  \n",
       "0       0      0     62.0      72.0  \n",
       "1       0      0     66.0      79.0  \n",
       "2       1      0     64.0      76.0  \n",
       "3       0      0     61.0      77.0  \n",
       "4       1      0     64.0      76.0  "
      ]
     },
     "execution_count": 19,
     "metadata": {},
     "output_type": "execute_result"
    }
   ],
   "source": [
    "df2.head()"
   ]
  },
  {
   "cell_type": "code",
   "execution_count": 20,
   "id": "2aad80ff",
   "metadata": {
    "execution": {
     "iopub.execute_input": "2022-03-24T11:36:30.953167Z",
     "iopub.status.busy": "2022-03-24T11:36:30.952097Z",
     "iopub.status.idle": "2022-03-24T11:36:31.021753Z",
     "shell.execute_reply": "2022-03-24T11:36:31.021194Z",
     "shell.execute_reply.started": "2022-03-24T11:35:08.042850Z"
    },
    "id": "wn2315cElW9O",
    "papermill": {
     "duration": 0.129529,
     "end_time": "2022-03-24T11:36:31.021902",
     "exception": false,
     "start_time": "2022-03-24T11:36:30.892373",
     "status": "completed"
    },
    "tags": []
   },
   "outputs": [],
   "source": [
    "from sklearn.model_selection import train_test_split\n",
    "X = df[\"pretest\"].values.reshape(-1,1) \n",
    "y = df[\"posttest\"]\n",
    "X_train,X_test,y_train,y_test = train_test_split(X,y,test_size=0.3)"
   ]
  },
  {
   "cell_type": "code",
   "execution_count": 21,
   "id": "0425f61a",
   "metadata": {},
   "outputs": [],
   "source": [
    "from sklearn.linear_model import LinearRegression\n",
    "svr = LinearRegression()\n",
    "svr.fit(X_train, y_train)\n",
    "pred = svr.predict(X_test)"
   ]
  },
  {
   "cell_type": "code",
   "execution_count": 22,
   "id": "97ac3fd5",
   "metadata": {
    "execution": {
     "iopub.execute_input": "2022-03-24T11:36:31.390807Z",
     "iopub.status.busy": "2022-03-24T11:36:31.390107Z",
     "iopub.status.idle": "2022-03-24T11:36:31.396932Z",
     "shell.execute_reply": "2022-03-24T11:36:31.397838Z",
     "shell.execute_reply.started": "2022-03-24T11:35:08.205302Z"
    },
    "id": "KcGL2ipEm6aM",
    "outputId": "503c3a04-aae2-4498-9da5-1b8d9ae36bf7",
    "papermill": {
     "duration": 0.066295,
     "end_time": "2022-03-24T11:36:31.398082",
     "exception": false,
     "start_time": "2022-03-24T11:36:31.331787",
     "status": "completed"
    },
    "tags": []
   },
   "outputs": [
    {
     "name": "stdout",
     "output_type": "stream",
     "text": [
      "3.586352028437999\n",
      "4.342623648767632\n"
     ]
    }
   ],
   "source": [
    "from sklearn.metrics import mean_absolute_error,mean_squared_error\n",
    "print(mean_absolute_error(y_test,pred))\n",
    "print(np.sqrt(mean_squared_error(y_test,pred)))"
   ]
  },
  {
   "cell_type": "code",
   "execution_count": 23,
   "id": "2c702310",
   "metadata": {
    "execution": {
     "iopub.execute_input": "2022-03-24T11:36:31.535106Z",
     "iopub.status.busy": "2022-03-24T11:36:31.534344Z",
     "iopub.status.idle": "2022-03-24T11:36:31.735415Z",
     "shell.execute_reply": "2022-03-24T11:36:31.734889Z",
     "shell.execute_reply.started": "2022-03-24T11:35:08.216105Z"
    },
    "id": "wqdannbYnpHX",
    "outputId": "3d42119b-e35e-477f-cf1f-77d6a3f865e4",
    "papermill": {
     "duration": 0.280422,
     "end_time": "2022-03-24T11:36:31.735561",
     "exception": false,
     "start_time": "2022-03-24T11:36:31.455139",
     "status": "completed"
    },
    "tags": []
   },
   "outputs": [
    {
     "data": {
      "text/plain": [
       "<AxesSubplot:xlabel='posttest'>"
      ]
     },
     "execution_count": 23,
     "metadata": {},
     "output_type": "execute_result"
    },
    {
     "data": {
      "image/png": "[encoded data removed]",
      "text/plain": [
       "<Figure size 864x360 with 1 Axes>"
      ]
     },
     "metadata": {
      "needs_background": "light"
     },
     "output_type": "display_data"
    }
   ],
   "source": [
    "plt.figure(figsize=(12,5))\n",
    "sns.scatterplot(x=y_test,y=pred)"
   ]
  }
 ],
 "metadata": {
  "kernelspec": {
   "display_name": "Python 3",
   "language": "python",
   "name": "python3"
  },
  "language_info": {
   "codemirror_mode": {
    "name": "ipython",
    "version": 3
   },
   "file_extension": ".py",
   "mimetype": "text/x-python",
   "name": "python",
   "nbconvert_exporter": "python",
   "pygments_lexer": "ipython3",
   "version": "3.9.7"
  },
  "papermill": {
   "default_parameters": {},
   "duration": 24.246019,
   "end_time": "2022-03-24T11:36:35.213704",
   "environment_variables": {},
   "exception": null,
   "input_path": "__notebook__.ipynb",
   "output_path": "__notebook__.ipynb",
   "parameters": {},
   "start_time": "2022-03-24T11:36:10.967685",
   "version": "2.3.3"
  }
 },
 "nbformat": 4,
 "nbformat_minor": 5
}
